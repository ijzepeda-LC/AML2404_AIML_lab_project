{
 "cells": [
  {
   "cell_type": "markdown",
   "id": "a1b742a3",
   "metadata": {},
   "source": [
    "# Implementation\n",
    "#### Storage Model\n",
    "\n",
    "Por que es importante gurdar un modelo de aprendizaje automatico de ML o AI?\n",
    "\n",
    "Cuando creamos un modelo de aprendizaje automatico, es importante sabe como guardar y que almacenar el modelo para que podamos utilizarlo mas adelante\n",
    "\n",
    "Existen varias maneras de guardar un modelo utilzando las librerias joblib, Pickle, tensorflow, Torch\n"
   ]
  },
  {
   "cell_type": "markdown",
   "id": "8e64951b",
   "metadata": {},
   "source": [
    "##### Modelo de ejemplo"
   ]
  },
  {
   "cell_type": "code",
   "execution_count": 5,
   "id": "7bae9ea5",
   "metadata": {},
   "outputs": [],
   "source": [
    "from sklearn import datasets, linear_model\n",
    "from sklearn.model_selection import train_test_split"
   ]
  },
  {
   "cell_type": "code",
   "execution_count": 7,
   "id": "87662694",
   "metadata": {},
   "outputs": [],
   "source": [
    "iris = datasets.load_iris()\n",
    "clf = linear_model.LogisticRegression()"
   ]
  },
  {
   "cell_type": "code",
   "execution_count": 8,
   "id": "dc09614d",
   "metadata": {},
   "outputs": [
    {
     "data": {
      "text/plain": [
       "dict_keys(['data', 'target', 'frame', 'target_names', 'DESCR', 'feature_names', 'filename', 'data_module'])"
      ]
     },
     "execution_count": 8,
     "metadata": {},
     "output_type": "execute_result"
    }
   ],
   "source": [
    "iris.keys()"
   ]
  },
  {
   "cell_type": "code",
   "execution_count": 9,
   "id": "e37c1b46",
   "metadata": {},
   "outputs": [],
   "source": [
    "XE, XT, ye, yt = train_test_split(iris.data, iris.target)"
   ]
  },
  {
   "cell_type": "code",
   "execution_count": 11,
   "id": "d4c06b81",
   "metadata": {},
   "outputs": [
    {
     "data": {
      "text/html": [
       "<style>#sk-container-id-1 {color: black;background-color: white;}#sk-container-id-1 pre{padding: 0;}#sk-container-id-1 div.sk-toggleable {background-color: white;}#sk-container-id-1 label.sk-toggleable__label {cursor: pointer;display: block;width: 100%;margin-bottom: 0;padding: 0.3em;box-sizing: border-box;text-align: center;}#sk-container-id-1 label.sk-toggleable__label-arrow:before {content: \"▸\";float: left;margin-right: 0.25em;color: #696969;}#sk-container-id-1 label.sk-toggleable__label-arrow:hover:before {color: black;}#sk-container-id-1 div.sk-estimator:hover label.sk-toggleable__label-arrow:before {color: black;}#sk-container-id-1 div.sk-toggleable__content {max-height: 0;max-width: 0;overflow: hidden;text-align: left;background-color: #f0f8ff;}#sk-container-id-1 div.sk-toggleable__content pre {margin: 0.2em;color: black;border-radius: 0.25em;background-color: #f0f8ff;}#sk-container-id-1 input.sk-toggleable__control:checked~div.sk-toggleable__content {max-height: 200px;max-width: 100%;overflow: auto;}#sk-container-id-1 input.sk-toggleable__control:checked~label.sk-toggleable__label-arrow:before {content: \"▾\";}#sk-container-id-1 div.sk-estimator input.sk-toggleable__control:checked~label.sk-toggleable__label {background-color: #d4ebff;}#sk-container-id-1 div.sk-label input.sk-toggleable__control:checked~label.sk-toggleable__label {background-color: #d4ebff;}#sk-container-id-1 input.sk-hidden--visually {border: 0;clip: rect(1px 1px 1px 1px);clip: rect(1px, 1px, 1px, 1px);height: 1px;margin: -1px;overflow: hidden;padding: 0;position: absolute;width: 1px;}#sk-container-id-1 div.sk-estimator {font-family: monospace;background-color: #f0f8ff;border: 1px dotted black;border-radius: 0.25em;box-sizing: border-box;margin-bottom: 0.5em;}#sk-container-id-1 div.sk-estimator:hover {background-color: #d4ebff;}#sk-container-id-1 div.sk-parallel-item::after {content: \"\";width: 100%;border-bottom: 1px solid gray;flex-grow: 1;}#sk-container-id-1 div.sk-label:hover label.sk-toggleable__label {background-color: #d4ebff;}#sk-container-id-1 div.sk-serial::before {content: \"\";position: absolute;border-left: 1px solid gray;box-sizing: border-box;top: 0;bottom: 0;left: 50%;z-index: 0;}#sk-container-id-1 div.sk-serial {display: flex;flex-direction: column;align-items: center;background-color: white;padding-right: 0.2em;padding-left: 0.2em;position: relative;}#sk-container-id-1 div.sk-item {position: relative;z-index: 1;}#sk-container-id-1 div.sk-parallel {display: flex;align-items: stretch;justify-content: center;background-color: white;position: relative;}#sk-container-id-1 div.sk-item::before, #sk-container-id-1 div.sk-parallel-item::before {content: \"\";position: absolute;border-left: 1px solid gray;box-sizing: border-box;top: 0;bottom: 0;left: 50%;z-index: -1;}#sk-container-id-1 div.sk-parallel-item {display: flex;flex-direction: column;z-index: 1;position: relative;background-color: white;}#sk-container-id-1 div.sk-parallel-item:first-child::after {align-self: flex-end;width: 50%;}#sk-container-id-1 div.sk-parallel-item:last-child::after {align-self: flex-start;width: 50%;}#sk-container-id-1 div.sk-parallel-item:only-child::after {width: 0;}#sk-container-id-1 div.sk-dashed-wrapped {border: 1px dashed gray;margin: 0 0.4em 0.5em 0.4em;box-sizing: border-box;padding-bottom: 0.4em;background-color: white;}#sk-container-id-1 div.sk-label label {font-family: monospace;font-weight: bold;display: inline-block;line-height: 1.2em;}#sk-container-id-1 div.sk-label-container {text-align: center;}#sk-container-id-1 div.sk-container {/* jupyter's `normalize.less` sets `[hidden] { display: none; }` but bootstrap.min.css set `[hidden] { display: none !important; }` so we also need the `!important` here to be able to override the default hidden behavior on the sphinx rendered scikit-learn.org. See: https://github.com/scikit-learn/scikit-learn/issues/21755 */display: inline-block !important;position: relative;}#sk-container-id-1 div.sk-text-repr-fallback {display: none;}</style><div id=\"sk-container-id-1\" class=\"sk-top-container\"><div class=\"sk-text-repr-fallback\"><pre>LogisticRegression()</pre><b>In a Jupyter environment, please rerun this cell to show the HTML representation or trust the notebook. <br />On GitHub, the HTML representation is unable to render, please try loading this page with nbviewer.org.</b></div><div class=\"sk-container\" hidden><div class=\"sk-item\"><div class=\"sk-estimator sk-toggleable\"><input class=\"sk-toggleable__control sk-hidden--visually\" id=\"sk-estimator-id-1\" type=\"checkbox\" checked><label for=\"sk-estimator-id-1\" class=\"sk-toggleable__label sk-toggleable__label-arrow\">LogisticRegression</label><div class=\"sk-toggleable__content\"><pre>LogisticRegression()</pre></div></div></div></div></div>"
      ],
      "text/plain": [
       "LogisticRegression()"
      ]
     },
     "execution_count": 11,
     "metadata": {},
     "output_type": "execute_result"
    }
   ],
   "source": [
    "clf.fit(XE,ye)"
   ]
  },
  {
   "cell_type": "code",
   "execution_count": 12,
   "id": "5da204b9",
   "metadata": {},
   "outputs": [
    {
     "data": {
      "text/plain": [
       "0.8947368421052632"
      ]
     },
     "execution_count": 12,
     "metadata": {},
     "output_type": "execute_result"
    }
   ],
   "source": [
    "clf.score(XT,yt)"
   ]
  },
  {
   "cell_type": "markdown",
   "id": "f08d7154",
   "metadata": {},
   "source": [
    "### Libreria Joblib\n",
    "\n",
    "Es especialmente util para modelos de aprendizaje automatico que tiene grande matrices de datos de tipo numpy. Es menos propenso a problemas de incompatibilidad."
   ]
  },
  {
   "cell_type": "markdown",
   "id": "35e7f57a",
   "metadata": {},
   "source": [
    "#### Almacenamiento del modelo"
   ]
  },
  {
   "cell_type": "code",
   "execution_count": 22,
   "id": "825040bd",
   "metadata": {},
   "outputs": [],
   "source": [
    "import joblib"
   ]
  },
  {
   "cell_type": "code",
   "execution_count": 23,
   "id": "e02f0a55",
   "metadata": {},
   "outputs": [
    {
     "data": {
      "text/plain": [
       "['modelo_prueba.pkl']"
      ]
     },
     "execution_count": 23,
     "metadata": {},
     "output_type": "execute_result"
    }
   ],
   "source": [
    "joblib.dump(clf, 'modelo_prueba.pkl')"
   ]
  },
  {
   "cell_type": "markdown",
   "id": "166751f3",
   "metadata": {},
   "source": [
    "#### Importacion del Modelo"
   ]
  },
  {
   "cell_type": "code",
   "execution_count": 24,
   "id": "3ab1b6e6",
   "metadata": {},
   "outputs": [],
   "source": [
    "import joblib\n",
    "from sklearn import datasets"
   ]
  },
  {
   "cell_type": "code",
   "execution_count": 29,
   "id": "d1150454",
   "metadata": {},
   "outputs": [
    {
     "data": {
      "text/plain": [
       "0.9466666666666667"
      ]
     },
     "execution_count": 29,
     "metadata": {},
     "output_type": "execute_result"
    }
   ],
   "source": [
    "clf2 = joblib.load('modelo_prueba.pkl')\n",
    "iris = datasets.load_iris()\n",
    "clf2.score(iris.data, iris.target)"
   ]
  },
  {
   "cell_type": "code",
   "execution_count": 32,
   "id": "749eb6af",
   "metadata": {},
   "outputs": [],
   "source": [
    "#nuevas_predicciones_joblib = modelo_entrenado.predict(Datos_ingreso)\n",
    "#datos_nuevos_joblib.insert(0,\"nombre de la columna\",nuevas_predicciones_joblib, allow_dupicates=False)"
   ]
  },
  {
   "cell_type": "markdown",
   "id": "ee0f9afd",
   "metadata": {},
   "source": [
    "### Libreria Pickle\n",
    "\n",
    "Es util para modelos que tienen estructuras de datos mas complejas. Permite serializar y deserializar objetos en python los combierte en secuencia de bites que nos ayudan a almacenar en el Disco. Es mas propenso en problemas de compatibilidad y no es tan eficiente. "
   ]
  },
  {
   "cell_type": "code",
   "execution_count": 35,
   "id": "31375b8f",
   "metadata": {},
   "outputs": [],
   "source": [
    "import pickle"
   ]
  },
  {
   "cell_type": "code",
   "execution_count": 37,
   "id": "d2561d22",
   "metadata": {},
   "outputs": [],
   "source": [
    "# guardar Modelo\n",
    "with open('modelo_prueba_pickle.pkl','wb')as archivo:\n",
    "    pickle.dump(clf, archivo)"
   ]
  },
  {
   "cell_type": "code",
   "execution_count": null,
   "id": "a6f2d284",
   "metadata": {},
   "outputs": [],
   "source": [
    "#Cargar Modelo\n",
    "with open('modelo_prueba_pickle.pkl','rb')as archivo:\n",
    "    modelo_cargado = pickle.load(archivo)"
   ]
  },
  {
   "cell_type": "markdown",
   "id": "5c765423",
   "metadata": {},
   "source": [
    "### Libreria TensorFlow\n",
    "\n",
    "Es util para modelos que tiene estructuras de datos mas complejas. se usa mas que todo para modelos de DeepLearning y modelos de redes neuronales. Guardar y cargar modelos del tipo de tensores. Conservar la arquitectura del modelo,los parametros y las variable que hemos definido. se guarda con una funcion que se llama safemodel que es una API ya ue tensorflow es una biblioteca desarrollada por google. al permitir esto, es una de las forma de deeplearning que nos va ayudar mas a desplegarlos en produccion por que soporta muchas optimizaacion de rendimiento en tiempo de ejecucion."
   ]
  },
  {
   "cell_type": "markdown",
   "id": "f6fcba81",
   "metadata": {},
   "source": [
    "### Libreria Torch\n",
    "\n",
    "Libreria de Python para crear modelos de aprendizaje automatico desarollada por Facebook. ayuda a guardar modelos de deeplearning, es compatible con CPU y GPU."
   ]
  },
  {
   "cell_type": "code",
   "execution_count": null,
   "id": "efc18f16",
   "metadata": {},
   "outputs": [],
   "source": []
  }
 ],
 "metadata": {
  "kernelspec": {
   "display_name": "Python 3 (ipykernel)",
   "language": "python",
   "name": "python3"
  },
  "language_info": {
   "codemirror_mode": {
    "name": "ipython",
    "version": 3
   },
   "file_extension": ".py",
   "mimetype": "text/x-python",
   "name": "python",
   "nbconvert_exporter": "python",
   "pygments_lexer": "ipython3",
   "version": "3.8.16"
  }
 },
 "nbformat": 4,
 "nbformat_minor": 5
}
