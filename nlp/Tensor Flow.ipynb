{
 "cells": [
  {
   "cell_type": "code",
   "execution_count": 30,
   "id": "5bae6cce",
   "metadata": {},
   "outputs": [],
   "source": [
    "# Import Libraries\n",
    "\n",
    "import pandas as pd\n",
    "import numpy as np\n",
    "import nltk\n",
    "import re\n",
    "import unicodedata\n",
    "import seaborn as sns\n",
    "import pickle\n",
    "import tensorflow_hub as hub\n",
    "import tensorflow as tf\n",
    "import matplotlib.pyplot as plt\n",
    "from datetime import datetime\n",
    "from sklearn.model_selection import train_test_split\n",
    "from sklearn.naive_bayes import MultinomialNB\n",
    "from sklearn.neighbors import NearestNeighbors\n",
    "from sklearn.decomposition import PCA\n",
    "from sklearn.metrics.pairwise import cosine_similarity\n",
    "from sklearn.metrics import accuracy_score, confusion_matrix, classification_report\n",
    "from sklearn.feature_extraction.text import CountVectorizer, TfidfVectorizer\n",
    "from nltk.tokenize import word_tokenize\n",
    "from nltk.corpus import stopwords\n",
    "from nltk.stem import PorterStemmer\n",
    "from wordcloud import WordCloud, STOPWORDS\n",
    "from autocorrect import Speller\n",
    "from spacy.lang.es.stop_words import STOP_WORDS\n",
    "import spacy\n",
    "\n",
    "# Load spaCy language model\n",
    "nlp = spacy.load('en_core_web_sm')\n",
    "\n",
    "# Ignore warning messages\n",
    "import warnings\n",
    "warnings.filterwarnings('ignore')\n",
    "\n",
    "# Tokenization function\n",
    "tokenizer = word_tokenize\n",
    "stopword_list = nltk.corpus.stopwords.words('english')\n",
    "\n",
    "# Spell checker\n",
    "spell_checker = Speller(lang='en')\n",
    "\n",
    "# Set Pandas display options\n",
    "pd.set_option('display.max_colwidth', 1000)\n"
   ]
  },
  {
   "cell_type": "code",
   "execution_count": 31,
   "id": "8bd1e4a3",
   "metadata": {},
   "outputs": [],
   "source": [
    "# Function to clean chars - emoticons\n",
    "def remove_accented_chars(text):\n",
    "    # En particular, NFKD significa \"Normalización de Forma Canónica Descomposición de Compatibilidad\n",
    "    text = unicodedata.normalize('NFKD', text).encode('ascii', 'ignore').decode('utf-8', 'ignore')\n",
    "    return text\n",
    "\n",
    "def remove_special_characters(text, remove_digits=False):\n",
    "    pattern = r'[^a-zA-z0-9\\s]' if not remove_digits else r'[^a-zA-z\\s]'\n",
    "    text = re.sub(pattern, '', text)\n",
    "    return text\n",
    "\n",
    "def lemmatize_text(text):\n",
    "    text = nlp(text)\n",
    "    text = ' '.join([word.lemma_ if word.lemma_ != '-PRON-' else word.text for word in text])\n",
    "    return text\n",
    "\n",
    "def remove_stopwords(text, is_lower_case=False):\n",
    "    tokens = tokenizer(text)\n",
    "    tokens = [token.strip() for token in tokens]\n",
    "    if is_lower_case:\n",
    "        filtered_tokens = [token for token in tokens if token not in stopword_list]\n",
    "    else:\n",
    "        filtered_tokens = [token for token in tokens if token.lower() not in stopword_list]\n",
    "    filtered_text = ' '.join(filtered_tokens)    \n",
    "    return filtered_text\n",
    "\n",
    "\n",
    "def normalize_corpus(corpus, accented_char_removal=True, text_lower_case=True, \n",
    "                     text_lemmatization=True, special_char_removal=True, \n",
    "                     stopword_removal=True, remove_digits=True,spell_correction=True):\n",
    "    doc = corpus\n",
    "    # accented characters removal\n",
    "    if accented_char_removal:\n",
    "        doc = remove_accented_chars(doc)\n",
    "    \n",
    "    # lowercase text\n",
    "    if text_lower_case:\n",
    "        doc = doc.lower()\n",
    "    \n",
    "    doc = re.sub(r'[\\r|\\n|\\r\\n]+', ' ',doc)\n",
    "    \n",
    "    # lemmatize text\n",
    "    if text_lemmatization:\n",
    "        doc = lemmatize_text(doc)\n",
    "    \n",
    "    # remove special characters and\\or digits    \n",
    "    if special_char_removal:\n",
    "        # insert spaces between special characters to isolate them    \n",
    "        special_char_pattern = re.compile(r'([{.(-)!}])')\n",
    "        doc = special_char_pattern.sub(\" \\\\1 \", doc)\n",
    "        doc = remove_special_characters(doc, remove_digits=remove_digits)  \n",
    "    \n",
    "    # remove extra whitespace\n",
    "    doc = re.sub(' +', ' ', doc)\n",
    "    \n",
    "    # remove stopwords\n",
    "    if stopword_removal:\n",
    "        doc = remove_stopwords(doc, is_lower_case=text_lower_case)\n",
    "    \n",
    "#     # spell correction\n",
    "#     if spell_correction:\n",
    "#         tokens = tokenizer(doc)\n",
    "#         total_tokens = len(tokens)\n",
    "#         corrected_tokens = []\n",
    "#         for token in tqdm(tokens, desc=\"Applying Spell Correction\", total=total_tokens):\n",
    "#             corrected_token = spell_checker(token)\n",
    "#             corrected_tokens.append(corrected_token)\n",
    "#         doc = ' '.join(corrected_tokens)\n",
    "        \n",
    "#     if spell_correction:\n",
    "#         tokens = tokenizer(doc)\n",
    "#         corrected_tokens = [spell_checker(word) for word in tokens]\n",
    "#         doc = ' '.join(corrected_tokens)  \n",
    "\n",
    "\n",
    "    return doc\n",
    "\n",
    "\n",
    "def clean(text):\n",
    "    doc = re.sub(r'[\\W_]', ' ', text) # removing underscores\n",
    "    doc = normalize_corpus(doc, text_lemmatization=False)\n",
    "    return doc"
   ]
  },
  {
   "cell_type": "code",
   "execution_count": 32,
   "id": "4546b13d",
   "metadata": {},
   "outputs": [],
   "source": [
    "# Load movies review data \n",
    "model_url = 'https://tfhub.dev/google/universal-sentence-encoder/4'\n",
    "model = hub.load(model_url)"
   ]
  },
  {
   "cell_type": "code",
   "execution_count": 33,
   "id": "7015f034",
   "metadata": {},
   "outputs": [],
   "source": [
    "df = pd.read_csv('data_imdb.csv',encoding= 'unicode_escape')[['Name of movie','Description']]\n",
    "#df = pd.read_csv('reviews.csv')[['movie','content']]"
   ]
  },
  {
   "cell_type": "code",
   "execution_count": 34,
   "id": "055bee90",
   "metadata": {},
   "outputs": [
    {
     "data": {
      "text/plain": [
       "(100, 2)"
      ]
     },
     "execution_count": 34,
     "metadata": {},
     "output_type": "execute_result"
    }
   ],
   "source": [
    "df.shape"
   ]
  },
  {
   "cell_type": "code",
   "execution_count": 35,
   "id": "6a703ae1",
   "metadata": {},
   "outputs": [
    {
     "data": {
      "text/html": [
       "<div>\n",
       "<style scoped>\n",
       "    .dataframe tbody tr th:only-of-type {\n",
       "        vertical-align: middle;\n",
       "    }\n",
       "\n",
       "    .dataframe tbody tr th {\n",
       "        vertical-align: top;\n",
       "    }\n",
       "\n",
       "    .dataframe thead th {\n",
       "        text-align: right;\n",
       "    }\n",
       "</style>\n",
       "<table border=\"1\" class=\"dataframe\">\n",
       "  <thead>\n",
       "    <tr style=\"text-align: right;\">\n",
       "      <th></th>\n",
       "      <th>Name of movie</th>\n",
       "      <th>Description</th>\n",
       "    </tr>\n",
       "  </thead>\n",
       "  <tbody>\n",
       "    <tr>\n",
       "      <th>0</th>\n",
       "      <td>The Shawshank Redemption</td>\n",
       "      <td>Over the course of several years, two convicts form a friendship, seeking consolation and, eventually, redemption through basic compassion.</td>\n",
       "    </tr>\n",
       "    <tr>\n",
       "      <th>1</th>\n",
       "      <td>The Godfather</td>\n",
       "      <td>Don Vito Corleone, head of a mafia family, decides to hand over his empire to his youngest son Michael. However, his decision unintentionally puts the lives of his loved ones in grave danger.</td>\n",
       "    </tr>\n",
       "    <tr>\n",
       "      <th>2</th>\n",
       "      <td>Spider-Man: Across the Spider-Verse</td>\n",
       "      <td>Miles Morales catapults across the Multiverse, where he encounters a team of Spider-People charged with protecting its very existence. When the heroes clash on how to handle a new threat, Miles must redefine what it means to be a hero.</td>\n",
       "    </tr>\n",
       "    <tr>\n",
       "      <th>3</th>\n",
       "      <td>The Dark Knight</td>\n",
       "      <td>When the menace known as the Joker wreaks havoc and chaos on the people of Gotham, Batman must accept one of the greatest psychological and physical tests of his ability to fight injustice.</td>\n",
       "    </tr>\n",
       "    <tr>\n",
       "      <th>4</th>\n",
       "      <td>Schindler's List</td>\n",
       "      <td>In German-occupied Poland during World War II, industrialist Oskar Schindler gradually becomes concerned for his Jewish workforce after witnessing their persecution by the Nazis.</td>\n",
       "    </tr>\n",
       "    <tr>\n",
       "      <th>...</th>\n",
       "      <td>...</td>\n",
       "      <td>...</td>\n",
       "    </tr>\n",
       "    <tr>\n",
       "      <th>95</th>\n",
       "      <td>Scarface</td>\n",
       "      <td>In 1980 Miami, a determined Cuban immigrant takes over a drug cartel and succumbs to greed.</td>\n",
       "    </tr>\n",
       "    <tr>\n",
       "      <th>96</th>\n",
       "      <td>American Beauty</td>\n",
       "      <td>A sexually frustrated suburban father has a mid-life crisis after becoming infatuated with his daughter's best friend.</td>\n",
       "    </tr>\n",
       "    <tr>\n",
       "      <th>97</th>\n",
       "      <td>North by Northwest</td>\n",
       "      <td>A New York City advertising executive goes on the run after being mistaken for a government agent by a group of foreign spies, and falls for a woman whose loyalties he begins to doubt.</td>\n",
       "    </tr>\n",
       "    <tr>\n",
       "      <th>98</th>\n",
       "      <td>2001: A Space Odyssey</td>\n",
       "      <td>After uncovering a mysterious artifact buried beneath the Lunar surface, a spacecraft is sent to Jupiter to find its origins - a spacecraft manned by two men and the supercomputer H.A.L. 9000.</td>\n",
       "    </tr>\n",
       "    <tr>\n",
       "      <th>99</th>\n",
       "      <td>Eternal Sunshine of the Spotless Mind</td>\n",
       "      <td>When their relationship turns sour, a couple undergoes a medical procedure to have each other erased from their memories for ever.</td>\n",
       "    </tr>\n",
       "  </tbody>\n",
       "</table>\n",
       "<p>100 rows × 2 columns</p>\n",
       "</div>"
      ],
      "text/plain": [
       "                            Name of movie  \\\n",
       "0                The Shawshank Redemption   \n",
       "1                           The Godfather   \n",
       "2     Spider-Man: Across the Spider-Verse   \n",
       "3                         The Dark Knight   \n",
       "4                        Schindler's List   \n",
       "..                                    ...   \n",
       "95                               Scarface   \n",
       "96                        American Beauty   \n",
       "97                     North by Northwest   \n",
       "98                  2001: A Space Odyssey   \n",
       "99  Eternal Sunshine of the Spotless Mind   \n",
       "\n",
       "                                                                                                                                                                                                                                    Description  \n",
       "0                                                                                                   Over the course of several years, two convicts form a friendship, seeking consolation and, eventually, redemption through basic compassion.  \n",
       "1                                               Don Vito Corleone, head of a mafia family, decides to hand over his empire to his youngest son Michael. However, his decision unintentionally puts the lives of his loved ones in grave danger.  \n",
       "2   Miles Morales catapults across the Multiverse, where he encounters a team of Spider-People charged with protecting its very existence. When the heroes clash on how to handle a new threat, Miles must redefine what it means to be a hero.  \n",
       "3                                                 When the menace known as the Joker wreaks havoc and chaos on the people of Gotham, Batman must accept one of the greatest psychological and physical tests of his ability to fight injustice.  \n",
       "4                                                            In German-occupied Poland during World War II, industrialist Oskar Schindler gradually becomes concerned for his Jewish workforce after witnessing their persecution by the Nazis.  \n",
       "..                                                                                                                                                                                                                                          ...  \n",
       "95                                                                                                                                                  In 1980 Miami, a determined Cuban immigrant takes over a drug cartel and succumbs to greed.  \n",
       "96                                                                                                                       A sexually frustrated suburban father has a mid-life crisis after becoming infatuated with his daughter's best friend.  \n",
       "97                                                     A New York City advertising executive goes on the run after being mistaken for a government agent by a group of foreign spies, and falls for a woman whose loyalties he begins to doubt.  \n",
       "98                                             After uncovering a mysterious artifact buried beneath the Lunar surface, a spacecraft is sent to Jupiter to find its origins - a spacecraft manned by two men and the supercomputer H.A.L. 9000.  \n",
       "99                                                                                                           When their relationship turns sour, a couple undergoes a medical procedure to have each other erased from their memories for ever.  \n",
       "\n",
       "[100 rows x 2 columns]"
      ]
     },
     "execution_count": 35,
     "metadata": {},
     "output_type": "execute_result"
    }
   ],
   "source": [
    "df"
   ]
  },
  {
   "cell_type": "code",
   "execution_count": 36,
   "id": "a33885cc",
   "metadata": {},
   "outputs": [],
   "source": [
    "df['cleaned'] = df['Description'].apply(clean)"
   ]
  },
  {
   "cell_type": "code",
   "execution_count": 48,
   "id": "1fb20b75",
   "metadata": {},
   "outputs": [],
   "source": [
    "description = list(df['cleaned'])"
   ]
  },
  {
   "cell_type": "code",
   "execution_count": 49,
   "id": "b35b2fde",
   "metadata": {},
   "outputs": [
    {
     "data": {
      "text/html": [
       "<div>\n",
       "<style scoped>\n",
       "    .dataframe tbody tr th:only-of-type {\n",
       "        vertical-align: middle;\n",
       "    }\n",
       "\n",
       "    .dataframe tbody tr th {\n",
       "        vertical-align: top;\n",
       "    }\n",
       "\n",
       "    .dataframe thead th {\n",
       "        text-align: right;\n",
       "    }\n",
       "</style>\n",
       "<table border=\"1\" class=\"dataframe\">\n",
       "  <thead>\n",
       "    <tr style=\"text-align: right;\">\n",
       "      <th></th>\n",
       "      <th>Name of movie</th>\n",
       "      <th>Description</th>\n",
       "      <th>cleaned</th>\n",
       "    </tr>\n",
       "  </thead>\n",
       "  <tbody>\n",
       "    <tr>\n",
       "      <th>0</th>\n",
       "      <td>The Shawshank Redemption</td>\n",
       "      <td>Over the course of several years, two convicts form a friendship, seeking consolation and, eventually, redemption through basic compassion.</td>\n",
       "      <td>course several years two convicts form friendship seeking consolation eventually redemption basic compassion</td>\n",
       "    </tr>\n",
       "    <tr>\n",
       "      <th>1</th>\n",
       "      <td>The Godfather</td>\n",
       "      <td>Don Vito Corleone, head of a mafia family, decides to hand over his empire to his youngest son Michael. However, his decision unintentionally puts the lives of his loved ones in grave danger.</td>\n",
       "      <td>vito corleone head mafia family decides hand empire youngest son michael however decision unintentionally puts lives loved ones grave danger</td>\n",
       "    </tr>\n",
       "    <tr>\n",
       "      <th>2</th>\n",
       "      <td>Spider-Man: Across the Spider-Verse</td>\n",
       "      <td>Miles Morales catapults across the Multiverse, where he encounters a team of Spider-People charged with protecting its very existence. When the heroes clash on how to handle a new threat, Miles must redefine what it means to be a hero.</td>\n",
       "      <td>miles morales catapults across multiverse encounters team spider people charged protecting existence heroes clash handle new threat miles must redefine means hero</td>\n",
       "    </tr>\n",
       "    <tr>\n",
       "      <th>3</th>\n",
       "      <td>The Dark Knight</td>\n",
       "      <td>When the menace known as the Joker wreaks havoc and chaos on the people of Gotham, Batman must accept one of the greatest psychological and physical tests of his ability to fight injustice.</td>\n",
       "      <td>menace known joker wreaks havoc chaos people gotham batman must accept one greatest psychological physical tests ability fight injustice</td>\n",
       "    </tr>\n",
       "    <tr>\n",
       "      <th>4</th>\n",
       "      <td>Schindler's List</td>\n",
       "      <td>In German-occupied Poland during World War II, industrialist Oskar Schindler gradually becomes concerned for his Jewish workforce after witnessing their persecution by the Nazis.</td>\n",
       "      <td>german occupied poland world war ii industrialist oskar schindler gradually becomes concerned jewish workforce witnessing persecution nazis</td>\n",
       "    </tr>\n",
       "  </tbody>\n",
       "</table>\n",
       "</div>"
      ],
      "text/plain": [
       "                         Name of movie  \\\n",
       "0             The Shawshank Redemption   \n",
       "1                        The Godfather   \n",
       "2  Spider-Man: Across the Spider-Verse   \n",
       "3                      The Dark Knight   \n",
       "4                     Schindler's List   \n",
       "\n",
       "                                                                                                                                                                                                                                   Description  \\\n",
       "0                                                                                                  Over the course of several years, two convicts form a friendship, seeking consolation and, eventually, redemption through basic compassion.   \n",
       "1                                              Don Vito Corleone, head of a mafia family, decides to hand over his empire to his youngest son Michael. However, his decision unintentionally puts the lives of his loved ones in grave danger.   \n",
       "2  Miles Morales catapults across the Multiverse, where he encounters a team of Spider-People charged with protecting its very existence. When the heroes clash on how to handle a new threat, Miles must redefine what it means to be a hero.   \n",
       "3                                                When the menace known as the Joker wreaks havoc and chaos on the people of Gotham, Batman must accept one of the greatest psychological and physical tests of his ability to fight injustice.   \n",
       "4                                                           In German-occupied Poland during World War II, industrialist Oskar Schindler gradually becomes concerned for his Jewish workforce after witnessing their persecution by the Nazis.   \n",
       "\n",
       "                                                                                                                                                              cleaned  \n",
       "0                                                        course several years two convicts form friendship seeking consolation eventually redemption basic compassion  \n",
       "1                        vito corleone head mafia family decides hand empire youngest son michael however decision unintentionally puts lives loved ones grave danger  \n",
       "2  miles morales catapults across multiverse encounters team spider people charged protecting existence heroes clash handle new threat miles must redefine means hero  \n",
       "3                            menace known joker wreaks havoc chaos people gotham batman must accept one greatest psychological physical tests ability fight injustice  \n",
       "4                         german occupied poland world war ii industrialist oskar schindler gradually becomes concerned jewish workforce witnessing persecution nazis  "
      ]
     },
     "execution_count": 49,
     "metadata": {},
     "output_type": "execute_result"
    }
   ],
   "source": [
    "df.head(5)"
   ]
  },
  {
   "cell_type": "code",
   "execution_count": 50,
   "id": "db82b053",
   "metadata": {},
   "outputs": [],
   "source": [
    "embedding = model(description)"
   ]
  },
  {
   "cell_type": "code",
   "execution_count": 51,
   "id": "3124c383",
   "metadata": {},
   "outputs": [],
   "source": [
    "pca = PCA(n_components=2)\n",
    "emb_2d = pca.fit_transform(embedding)"
   ]
  },
  {
   "cell_type": "code",
   "execution_count": 52,
   "id": "924f4a08",
   "metadata": {},
   "outputs": [
    {
     "data": {
      "text/plain": [
       "array([[-0.24578476,  0.27893461],\n",
       "       [-0.02910358, -0.26975094],\n",
       "       [ 0.40921407,  0.01577719],\n",
       "       [ 0.25197555, -0.02972199],\n",
       "       [ 0.07348514, -0.01848205],\n",
       "       [-0.15770083, -0.24505022],\n",
       "       [ 0.59686922,  0.15520006],\n",
       "       [-0.04637867, -0.25894889],\n",
       "       [-0.13046823, -0.14008539],\n",
       "       [ 0.05362887,  0.12841045],\n",
       "       [ 0.48728985,  0.21403534],\n",
       "       [-0.01960996,  0.12041922],\n",
       "       [-0.08833236,  0.0129539 ],\n",
       "       [ 0.01425057, -0.13142402],\n",
       "       [ 0.51811543,  0.16153605],\n",
       "       [-0.19177306, -0.09089837],\n",
       "       [-0.03620477, -0.12320669],\n",
       "       [-0.08842681,  0.24954862],\n",
       "       [ 0.14915354,  0.11059936],\n",
       "       [-0.18426091, -0.0315221 ],\n",
       "       [-0.06139676,  0.11444127],\n",
       "       [-0.16017632, -0.14776737],\n",
       "       [ 0.41153282, -0.11006585],\n",
       "       [ 0.06956201,  0.00688346],\n",
       "       [-0.09427642, -0.20270306],\n",
       "       [ 0.13747144, -0.06725701],\n",
       "       [-0.1866287 , -0.16346682],\n",
       "       [-0.22401902, -0.17551406],\n",
       "       [ 0.39150105, -0.05869923],\n",
       "       [ 0.19684089,  0.11987467],\n",
       "       [-0.00173974,  0.18683479],\n",
       "       [-0.04438934,  0.12400099],\n",
       "       [-0.0482459 ,  0.06524251],\n",
       "       [ 0.05545   , -0.2110535 ],\n",
       "       [-0.07683406,  0.2581757 ],\n",
       "       [ 0.22003134, -0.14044776],\n",
       "       [-0.05071132, -0.03372771],\n",
       "       [-0.11902765, -0.14998097],\n",
       "       [-0.17678179, -0.22433753],\n",
       "       [ 0.04951704,  0.12731843],\n",
       "       [-0.02651733,  0.38343895],\n",
       "       [-0.08524406,  0.0812251 ],\n",
       "       [-0.08418445, -0.14652093],\n",
       "       [ 0.02941959, -0.26054217],\n",
       "       [ 0.17234141,  0.10654264],\n",
       "       [-0.19039745, -0.01774368],\n",
       "       [ 0.14212489, -0.07419359],\n",
       "       [-0.03120154, -0.0669454 ],\n",
       "       [ 0.13132491,  0.03566925],\n",
       "       [-0.20380423, -0.20239567],\n",
       "       [-0.08085915, -0.05953127],\n",
       "       [-0.20190563,  0.1311942 ],\n",
       "       [-0.00896753, -0.22441889],\n",
       "       [-0.08094803,  0.07264056],\n",
       "       [-0.12177556, -0.07270032],\n",
       "       [-0.06529161,  0.42101152],\n",
       "       [-0.28475709,  0.19970307],\n",
       "       [-0.15092608,  0.17074644],\n",
       "       [-0.25018413,  0.46906415],\n",
       "       [ 0.36149048,  0.18329023],\n",
       "       [ 0.16437503, -0.0529825 ],\n",
       "       [ 0.51974321,  0.13284661],\n",
       "       [ 0.2327971 , -0.31346751],\n",
       "       [-0.09088845, -0.23378224],\n",
       "       [ 0.12446223, -0.12543927],\n",
       "       [ 0.54244314,  0.06194795],\n",
       "       [-0.15420949,  0.1091037 ],\n",
       "       [-0.14021784,  0.04263846],\n",
       "       [-0.25491975,  0.11939807],\n",
       "       [ 0.24388315, -0.06491748],\n",
       "       [-0.01588217,  0.07142546],\n",
       "       [ 0.07814404, -0.04794733],\n",
       "       [-0.06716086,  0.41773731],\n",
       "       [-0.08845536, -0.0846845 ],\n",
       "       [ 0.13347831,  0.30131061],\n",
       "       [ 0.08478066, -0.02287365],\n",
       "       [ 0.24809827, -0.138922  ],\n",
       "       [-0.12643444, -0.02112986],\n",
       "       [-0.2969506 , -0.07808187],\n",
       "       [-0.03931814,  0.22345294],\n",
       "       [-0.08211033, -0.00626549],\n",
       "       [-0.16261204,  0.45567001],\n",
       "       [-0.12004976, -0.32767536],\n",
       "       [ 0.21264881, -0.27230486],\n",
       "       [ 0.07913825, -0.26287026],\n",
       "       [-0.25925666, -0.07349089],\n",
       "       [-0.18018927, -0.15428792],\n",
       "       [ 0.02997744, -0.21188239],\n",
       "       [-0.25502837, -0.16853174],\n",
       "       [-0.08407789, -0.20833408],\n",
       "       [ 0.1309364 , -0.02527709],\n",
       "       [-0.19056028, -0.22423874],\n",
       "       [ 0.17760239, -0.16094905],\n",
       "       [-0.12169722,  0.11407015],\n",
       "       [-0.20503486,  0.14109343],\n",
       "       [-0.18590967, -0.20940809],\n",
       "       [-0.2449981 ,  0.35540462],\n",
       "       [-0.09846206, -0.19745958],\n",
       "       [ 0.10555205,  0.09692182],\n",
       "       [-0.23699215,  0.48857332]])"
      ]
     },
     "execution_count": 52,
     "metadata": {},
     "output_type": "execute_result"
    }
   ],
   "source": [
    "emb_2d"
   ]
  },
  {
   "cell_type": "code",
   "execution_count": 53,
   "id": "31e090d5",
   "metadata": {},
   "outputs": [
    {
     "data": {
      "image/png": "[encoded data removed]",
      "text/plain": [
       "<Figure size 1000x500 with 1 Axes>"
      ]
     },
     "metadata": {},
     "output_type": "display_data"
    }
   ],
   "source": [
    "plt.figure(figsize=(10,5))\n",
    "plt.title(\"Embedding space\")\n",
    "plt.scatter(emb_2d[:,0],emb_2d[:,1])\n",
    "plt.show()"
   ]
  },
  {
   "cell_type": "code",
   "execution_count": 54,
   "id": "37e4cf53",
   "metadata": {},
   "outputs": [
    {
     "data": {
      "text/html": [
       "<style>#sk-container-id-4 {color: black;background-color: white;}#sk-container-id-4 pre{padding: 0;}#sk-container-id-4 div.sk-toggleable {background-color: white;}#sk-container-id-4 label.sk-toggleable__label {cursor: pointer;display: block;width: 100%;margin-bottom: 0;padding: 0.3em;box-sizing: border-box;text-align: center;}#sk-container-id-4 label.sk-toggleable__label-arrow:before {content: \"▸\";float: left;margin-right: 0.25em;color: #696969;}#sk-container-id-4 label.sk-toggleable__label-arrow:hover:before {color: black;}#sk-container-id-4 div.sk-estimator:hover label.sk-toggleable__label-arrow:before {color: black;}#sk-container-id-4 div.sk-toggleable__content {max-height: 0;max-width: 0;overflow: hidden;text-align: left;background-color: #f0f8ff;}#sk-container-id-4 div.sk-toggleable__content pre {margin: 0.2em;color: black;border-radius: 0.25em;background-color: #f0f8ff;}#sk-container-id-4 input.sk-toggleable__control:checked~div.sk-toggleable__content {max-height: 200px;max-width: 100%;overflow: auto;}#sk-container-id-4 input.sk-toggleable__control:checked~label.sk-toggleable__label-arrow:before {content: \"▾\";}#sk-container-id-4 div.sk-estimator input.sk-toggleable__control:checked~label.sk-toggleable__label {background-color: #d4ebff;}#sk-container-id-4 div.sk-label input.sk-toggleable__control:checked~label.sk-toggleable__label {background-color: #d4ebff;}#sk-container-id-4 input.sk-hidden--visually {border: 0;clip: rect(1px 1px 1px 1px);clip: rect(1px, 1px, 1px, 1px);height: 1px;margin: -1px;overflow: hidden;padding: 0;position: absolute;width: 1px;}#sk-container-id-4 div.sk-estimator {font-family: monospace;background-color: #f0f8ff;border: 1px dotted black;border-radius: 0.25em;box-sizing: border-box;margin-bottom: 0.5em;}#sk-container-id-4 div.sk-estimator:hover {background-color: #d4ebff;}#sk-container-id-4 div.sk-parallel-item::after {content: \"\";width: 100%;border-bottom: 1px solid gray;flex-grow: 1;}#sk-container-id-4 div.sk-label:hover label.sk-toggleable__label {background-color: #d4ebff;}#sk-container-id-4 div.sk-serial::before {content: \"\";position: absolute;border-left: 1px solid gray;box-sizing: border-box;top: 0;bottom: 0;left: 50%;z-index: 0;}#sk-container-id-4 div.sk-serial {display: flex;flex-direction: column;align-items: center;background-color: white;padding-right: 0.2em;padding-left: 0.2em;position: relative;}#sk-container-id-4 div.sk-item {position: relative;z-index: 1;}#sk-container-id-4 div.sk-parallel {display: flex;align-items: stretch;justify-content: center;background-color: white;position: relative;}#sk-container-id-4 div.sk-item::before, #sk-container-id-4 div.sk-parallel-item::before {content: \"\";position: absolute;border-left: 1px solid gray;box-sizing: border-box;top: 0;bottom: 0;left: 50%;z-index: -1;}#sk-container-id-4 div.sk-parallel-item {display: flex;flex-direction: column;z-index: 1;position: relative;background-color: white;}#sk-container-id-4 div.sk-parallel-item:first-child::after {align-self: flex-end;width: 50%;}#sk-container-id-4 div.sk-parallel-item:last-child::after {align-self: flex-start;width: 50%;}#sk-container-id-4 div.sk-parallel-item:only-child::after {width: 0;}#sk-container-id-4 div.sk-dashed-wrapped {border: 1px dashed gray;margin: 0 0.4em 0.5em 0.4em;box-sizing: border-box;padding-bottom: 0.4em;background-color: white;}#sk-container-id-4 div.sk-label label {font-family: monospace;font-weight: bold;display: inline-block;line-height: 1.2em;}#sk-container-id-4 div.sk-label-container {text-align: center;}#sk-container-id-4 div.sk-container {/* jupyter's `normalize.less` sets `[hidden] { display: none; }` but bootstrap.min.css set `[hidden] { display: none !important; }` so we also need the `!important` here to be able to override the default hidden behavior on the sphinx rendered scikit-learn.org. See: https://github.com/scikit-learn/scikit-learn/issues/21755 */display: inline-block !important;position: relative;}#sk-container-id-4 div.sk-text-repr-fallback {display: none;}</style><div id=\"sk-container-id-4\" class=\"sk-top-container\"><div class=\"sk-text-repr-fallback\"><pre>NearestNeighbors()</pre><b>In a Jupyter environment, please rerun this cell to show the HTML representation or trust the notebook. <br />On GitHub, the HTML representation is unable to render, please try loading this page with nbviewer.org.</b></div><div class=\"sk-container\" hidden><div class=\"sk-item\"><div class=\"sk-estimator sk-toggleable\"><input class=\"sk-toggleable__control sk-hidden--visually\" id=\"sk-estimator-id-4\" type=\"checkbox\" checked><label for=\"sk-estimator-id-4\" class=\"sk-toggleable__label sk-toggleable__label-arrow\">NearestNeighbors</label><div class=\"sk-toggleable__content\"><pre>NearestNeighbors()</pre></div></div></div></div></div>"
      ],
      "text/plain": [
       "NearestNeighbors()"
      ]
     },
     "execution_count": 54,
     "metadata": {},
     "output_type": "execute_result"
    }
   ],
   "source": [
    "nn = NearestNeighbors(n_neighbors=5)\n",
    "nn.fit(embedding)"
   ]
  },
  {
   "cell_type": "code",
   "execution_count": 55,
   "id": "3a19039b",
   "metadata": {},
   "outputs": [],
   "source": [
    "def detectmovie(descriptionText):\n",
    "    emd = model([descriptionText])\n",
    "    neighbours = nn.kneighbors(emd,return_distance=False)[0]\n",
    "    print(neighbours)\n",
    "    return df['Name of movie'].iloc[neighbours].tolist()"
   ]
  },
  {
   "cell_type": "code",
   "execution_count": 56,
   "id": "3f9c407d",
   "metadata": {},
   "outputs": [
    {
     "name": "stdout",
     "output_type": "stream",
     "text": [
      "[59 79 14  2 65]\n"
     ]
    },
    {
     "data": {
      "text/plain": [
       "['Spider-Man: Into the Spider-Verse',\n",
       " 'Sunset Blvd.',\n",
       " 'The Lord of the Rings: The Two Towers',\n",
       " 'Spider-Man: Across the Spider-Verse',\n",
       " 'Avengers: Infinity War']"
      ]
     },
     "execution_count": 56,
     "metadata": {},
     "output_type": "execute_result"
    }
   ],
   "source": [
    "detectmovie('the film is about a man who was bitten by a spider and gave him powers')"
   ]
  }
 ],
 "metadata": {
  "kernelspec": {
   "display_name": "Python 3 (ipykernel)",
   "language": "python",
   "name": "python3"
  },
  "language_info": {
   "codemirror_mode": {
    "name": "ipython",
    "version": 3
   },
   "file_extension": ".py",
   "mimetype": "text/x-python",
   "name": "python",
   "nbconvert_exporter": "python",
   "pygments_lexer": "ipython3",
   "version": "3.8.16"
  }
 },
 "nbformat": 4,
 "nbformat_minor": 5
}
