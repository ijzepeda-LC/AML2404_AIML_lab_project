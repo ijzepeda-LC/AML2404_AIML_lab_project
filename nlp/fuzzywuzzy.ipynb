{
 "cells": [
  {
   "cell_type": "code",
   "execution_count": null,
   "id": "562c2b6f",
   "metadata": {},
   "outputs": [],
   "source": [
    "!pip install fuzzywuzzy "
   ]
  },
  {
   "cell_type": "code",
   "execution_count": null,
   "id": "365f8d5c",
   "metadata": {},
   "outputs": [],
   "source": [
    "from fuzzywuzzy import fuzz\n",
    "\n",
    "# Lista de películas y sus descripciones\n",
    "peliculas = {\n",
    "    \"Titanic\": \"A love story on the tragic maiden voyage of the largest ship, the Titanic.\",\n",
    "    \"Avatar\": \"A marine is sent to a distant planet inhabited by alien beings.\",\n",
    "    \"The Godfather\": \"The story of a powerful mafia family and its leader, Don Vito Corleone.\"\n",
    "    # Agrega más películas y descripciones aquí\n",
    "}\n",
    "\n",
    "# Descripción para comparar\n",
    "descripcion = \"A movie where there a ship .\"\n",
    "\n",
    "# Función para encontrar la mejor coincidencia entre la descripción y las películas\n",
    "def encontrar_pelicula(descripcion, peliculas):\n",
    "    mejor_coincidencia = None\n",
    "    max_puntuacion = 0\n",
    "\n",
    "    for pelicula, desc in peliculas.items():\n",
    "        puntuacion = fuzz.ratio(descripcion, desc)\n",
    "        if puntuacion > max_puntuacion:\n",
    "            max_puntuacion = puntuacion\n",
    "            mejor_coincidencia = pelicula\n",
    "\n",
    "    return mejor_coincidencia\n",
    "\n",
    "# Buscar la mejor coincidencia\n",
    "mejor_pelicula = encontrar_pelicula(descripcion, peliculas)\n",
    "\n",
    "# Imprimir el resultado\n",
    "print(\"La mejor coincidencia es:\", mejor_pelicula)\n"
   ]
  }
 ],
 "metadata": {
  "kernelspec": {
   "display_name": "Python 3 (ipykernel)",
   "language": "python",
   "name": "python3"
  },
  "language_info": {
   "codemirror_mode": {
    "name": "ipython",
    "version": 3
   },
   "file_extension": ".py",
   "mimetype": "text/x-python",
   "name": "python",
   "nbconvert_exporter": "python",
   "pygments_lexer": "ipython3",
   "version": "3.8.16"
  }
 },
 "nbformat": 4,
 "nbformat_minor": 5
}
