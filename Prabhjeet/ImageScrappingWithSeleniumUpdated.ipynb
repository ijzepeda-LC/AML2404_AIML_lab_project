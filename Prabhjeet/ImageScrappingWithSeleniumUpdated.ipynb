{
 "cells": [
  {
   "cell_type": "code",
   "execution_count": null,
   "metadata": {},
   "outputs": [],
   "source": [
    "from selenium import webdriver\n",
    "from selenium.webdriver.common.by import By\n",
    "from selenium.webdriver.common.action_chains import ActionChains\n",
    "import urllib\n",
    "\n",
    "from selenium.webdriver.chrome.options import Options \n",
    "import urllib\n",
    "import time\n",
    "options = Options()\n",
    "custom_user_agent = \"Mozilla/5.0 (Linux; Android 11; 100011886A Build/RP1A.200720.011) AppleWebKit/537.36 (KHTML, like Gecko) Chrome/104.0.5112.69 Safari/537.36\"\n",
    "options.add_argument(f'user-agent={custom_user_agent}')\n",
    "driver = webdriver.Chrome(r'C:\\Users\\prabh\\OneDrive\\Documents\\Lambton\\Semester 2\\DatasetandDrivers\\chromedriver', options=options)"
   ]
  },
  {
   "cell_type": "code",
   "execution_count": null,
   "metadata": {},
   "outputs": [],
   "source": [
    "import pandas as pd\n",
    "df = pd.read_csv('Movie-2023-06-15.csv')['imdb_id']\n",
    "movielist = list(df.head(1))\n",
    "movielist"
   ]
  },
  {
   "cell_type": "code",
   "execution_count": null,
   "metadata": {},
   "outputs": [],
   "source": [
    "#actorID=['nm0004874']\n",
    "pagesToScrap = [1]"
   ]
  },
  {
   "cell_type": "code",
   "execution_count": null,
   "metadata": {},
   "outputs": [],
   "source": [
    "BaseURL = 'https://www.imdb.com/'\n",
    "for movieID in movielist:\n",
    "    for page in range(1, len(pagesToScrap) + 1):\n",
    "        url = (\"https://www.imdb.com/title/{titleID}/mediaindex?page={pageNumber}\")\n",
    "              \n",
    "        driver.get(url.format(titleID=movieID,pageNumber=page))\n",
    "        imagelinks = driver.find_elements(By.XPATH,'//*[@id=\"media_index_thumbnail_grid\"]/a')\n",
    "        \n",
    "        download_image_url_list = []\n",
    "        image_url_list =[]\n",
    "        for lnk in imagelinks:\n",
    "            url1 = lnk.get_attribute('href')\n",
    "            image_url_list.append(url1)\n",
    "        \n",
    "        for link in image_url_list:\n",
    "            driver.get(link)\n",
    "            imagelink = driver.find_element(By.XPATH,'//*[@property=\"og:image\"]')\n",
    "            download_image_url = imagelink.get_attribute('content')\n",
    "            download_image_url_list.append(download_image_url)\n",
    "        driver.close()"
   ]
  },
  {
   "cell_type": "code",
   "execution_count": null,
   "metadata": {},
   "outputs": [],
   "source": [
    "for j,i in enumerate(download_image_url_list):\n",
    "    urllib.request.urlretrieve(i, \"geeksforgeeks{}.png\".format(j))\n",
    "    "
   ]
  }
 ],
 "metadata": {
  "language_info": {
   "name": "python"
  },
  "orig_nbformat": 4
 },
 "nbformat": 4,
 "nbformat_minor": 2
}
