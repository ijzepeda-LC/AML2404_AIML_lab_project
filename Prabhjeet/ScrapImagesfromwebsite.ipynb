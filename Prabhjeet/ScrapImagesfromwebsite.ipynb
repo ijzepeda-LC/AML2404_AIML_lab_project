{
 "cells": [
  {
   "cell_type": "code",
   "execution_count": 45,
   "metadata": {},
   "outputs": [
    {
     "name": "stderr",
     "output_type": "stream",
     "text": [
      "C:\\Users\\prabh\\AppData\\Local\\Temp\\ipykernel_14192\\243700368.py:12: DeprecationWarning: executable_path has been deprecated, please pass in a Service object\n",
      "  driver = webdriver.Chrome(r'C:\\Users\\prabh\\OneDrive\\Documents\\Lambton\\Semester 2\\DatasetandDrivers\\chromedriver', options=options)\n"
     ]
    }
   ],
   "source": [
    "from selenium import webdriver\n",
    "from selenium.webdriver.common.by import By\n",
    "from selenium.webdriver.common.action_chains import ActionChains\n",
    "import urllib\n",
    "\n",
    "from selenium.webdriver.chrome.options import Options \n",
    "import urllib\n",
    "import time\n",
    "options = Options()\n",
    "custom_user_agent = \"Mozilla/5.0 (Linux; Android 11; 100011886A Build/RP1A.200720.011) AppleWebKit/537.36 (KHTML, like Gecko) Chrome/104.0.5112.69 Safari/537.36\"\n",
    "options.add_argument(f'user-agent={custom_user_agent}')\n",
    "driver = webdriver.Chrome(r'C:\\Users\\prabh\\OneDrive\\Documents\\Lambton\\Semester 2\\DatasetandDrivers\\chromedriver', options=options)"
   ]
  },
  {
   "cell_type": "code",
   "execution_count": 46,
   "metadata": {},
   "outputs": [
    {
     "data": {
      "text/plain": [
       "['tt0241527']"
      ]
     },
     "execution_count": 46,
     "metadata": {},
     "output_type": "execute_result"
    }
   ],
   "source": [
    "import pandas as pd\n",
    "df = pd.read_csv('Movie-2023-06-15.csv')['imdb_id']\n",
    "movielist = list(df.head(1))\n",
    "movielist"
   ]
  },
  {
   "cell_type": "code",
   "execution_count": 47,
   "metadata": {},
   "outputs": [],
   "source": [
    "#actorID=['nm0004874']\n",
    "pagesToScrap = [1]"
   ]
  },
  {
   "cell_type": "code",
   "execution_count": 48,
   "metadata": {},
   "outputs": [],
   "source": [
    "BaseURL = 'https://www.imdb.com/'\n",
    "for movieID in movielist:\n",
    "    for page in range(1, len(pagesToScrap) + 1):\n",
    "        url = (\"https://www.imdb.com/title/{titleID}/mediaindex?page={pageNumber}\")\n",
    "              \n",
    "        driver.get(url.format(titleID=movieID,pageNumber=page))\n",
    "        imagelinks = driver.find_elements(By.XPATH,'//*[@id=\"media_index_thumbnail_grid\"]/a')\n",
    "        \n",
    "        download_image_url_list = []\n",
    "        image_url_list =[]\n",
    "        for lnk in imagelinks:\n",
    "            url1 = lnk.get_attribute('href')\n",
    "            image_url_list.append(url1)\n",
    "        \n",
    "        for link in image_url_list:\n",
    "            driver.get(link)\n",
    "            imagelink = driver.find_element(By.XPATH,'//*[@property=\"og:image\"]')\n",
    "            download_image_url = imagelink.get_attribute('content')\n",
    "            download_image_url_list.append(download_image_url)\n",
    "        driver.close()"
   ]
  },
  {
   "cell_type": "code",
   "execution_count": 49,
   "metadata": {},
   "outputs": [],
   "source": [
    "# for i in imagelinks:\n",
    "#     i.get_attribute('href')"
   ]
  },
  {
   "cell_type": "code",
   "execution_count": 53,
   "metadata": {},
   "outputs": [],
   "source": [
    "for j,i in enumerate(download_image_url_list):\n",
    "    urllib.request.urlretrieve(i, \"geeksforgeeks{}.png\".format(j))\n",
    "    "
   ]
  },
  {
   "cell_type": "code",
   "execution_count": 51,
   "metadata": {},
   "outputs": [
    {
     "data": {
      "text/plain": [
       "['https://m.media-amazon.com/images/M/MV5BNzQwOGYzNzItNDYzMy00ZThkLTkyNzgtMmY1MTY3ZjY4MDhmXkEyXkFqcGdeQXVyMDM2NDM2MQ@@._V1_FMjpg_UX1000_.jpg',\n",
       " 'https://m.media-amazon.com/images/M/MV5BMjI2Njk1MjM0M15BMl5BanBnXkFtZTgwNDUwMTEyMjI@._V1_FMjpg_UX1000_.jpg',\n",
       " 'https://m.media-amazon.com/images/M/MV5BMTkyMDM1NDA5MV5BMl5BanBnXkFtZTgwMzE0ODAxMTI@._V1_FMjpg_UX1000_.jpg',\n",
       " 'https://m.media-amazon.com/images/M/MV5BMTc1MDg0MDgzMV5BMl5BanBnXkFtZTcwOTIzNjUwNA@@._V1_FMjpg_UX1000_.jpg',\n",
       " 'https://m.media-amazon.com/images/M/MV5BNzQ4NDY2NDYyNF5BMl5BanBnXkFtZTcwNzIzNDc3Mw@@._V1_FMjpg_UX1000_.jpg',\n",
       " 'https://m.media-amazon.com/images/M/MV5BMjA5NzU2MDYzMF5BMl5BanBnXkFtZTcwODIzNDc3Mw@@._V1_FMjpg_UX1000_.jpg',\n",
       " 'https://m.media-amazon.com/images/M/MV5BMTY3MDgyNzIwOV5BMl5BanBnXkFtZTcwMDMzNDc3Mw@@._V1_FMjpg_UX1000_.jpg',\n",
       " 'https://m.media-amazon.com/images/M/MV5BMTMzNzY4NDgzMl5BMl5BanBnXkFtZTcwMTMzNDc3Mw@@._V1_FMjpg_UX1000_.jpg',\n",
       " 'https://m.media-amazon.com/images/M/MV5BMTQ0OTc0NTg2NV5BMl5BanBnXkFtZTYwNTM0NTg3._V1_FMjpg_UX1000_.jpg',\n",
       " 'https://m.media-amazon.com/images/M/MV5BMjAyMTUwMTQ4Ml5BMl5BanBnXkFtZTYwOTM0NTg3._V1_FMjpg_UX1000_.jpg',\n",
       " 'https://m.media-amazon.com/images/M/MV5BMTE5MTk3OTcwNF5BMl5BanBnXkFtZTYwMTQ0NTg3._V1_FMjpg_UX1000_.jpg',\n",
       " 'https://m.media-amazon.com/images/M/MV5BNDExMjI0ODg4N15BMl5BanBnXkFtZTYwNTQ0NTg3._V1_FMjpg_UX1000_.jpg',\n",
       " 'https://m.media-amazon.com/images/M/MV5BMjE2MTg3MzUyMF5BMl5BanBnXkFtZTYwMzU0NTg3._V1_FMjpg_UX1000_.jpg',\n",
       " 'https://m.media-amazon.com/images/M/MV5BMTU0MzQ5NTAwMF5BMl5BanBnXkFtZTYwNTU0NTg3._V1_FMjpg_UX1000_.jpg',\n",
       " 'https://m.media-amazon.com/images/M/MV5BMTI1NzIxNzU2OF5BMl5BanBnXkFtZTYwNzU0NTg3._V1_FMjpg_UX1000_.jpg',\n",
       " 'https://m.media-amazon.com/images/M/MV5BMTMwOTMzNzkxNV5BMl5BanBnXkFtZTYwMzY0NTg3._V1_FMjpg_UX1000_.jpg',\n",
       " 'https://m.media-amazon.com/images/M/MV5BMTI2MjU5MDE1Nl5BMl5BanBnXkFtZTYwNTY0NTg3._V1_FMjpg_UX1000_.jpg',\n",
       " 'https://m.media-amazon.com/images/M/MV5BMTM0MTk4OTA2OV5BMl5BanBnXkFtZTYwODY0NTg3._V1_FMjpg_UX1000_.jpg',\n",
       " 'https://m.media-amazon.com/images/M/MV5BMTk0NjcxOTE1MF5BMl5BanBnXkFtZTYwMjc0NTg3._V1_FMjpg_UX1000_.jpg',\n",
       " 'https://m.media-amazon.com/images/M/MV5BNTI0MTQzODYzM15BMl5BanBnXkFtZTYwNTc0NTg3._V1_FMjpg_UX1000_.jpg',\n",
       " 'https://m.media-amazon.com/images/M/MV5BMTYzMTUwNTc5Nl5BMl5BanBnXkFtZTYwNjc0NTg3._V1_FMjpg_UX1000_.jpg',\n",
       " 'https://m.media-amazon.com/images/M/MV5BMjAyNjA3MzMxNV5BMl5BanBnXkFtZTYwOTc0NTg3._V1_FMjpg_UX1000_.jpg',\n",
       " 'https://m.media-amazon.com/images/M/MV5BMTMzMDk0MzU1NV5BMl5BanBnXkFtZTYwMTg0NTg3._V1_FMjpg_UX1000_.jpg',\n",
       " 'https://m.media-amazon.com/images/M/MV5BMTkyMDM1MTQzOF5BMl5BanBnXkFtZTYwMzg0NTg3._V1_FMjpg_UX1000_.jpg',\n",
       " 'https://m.media-amazon.com/images/M/MV5BMjE0Nzg0OTg2N15BMl5BanBnXkFtZTYwNTg0NTg3._V1_FMjpg_UX1000_.jpg',\n",
       " 'https://m.media-amazon.com/images/M/MV5BMjE0NDc1NjM3Ml5BMl5BanBnXkFtZTYwNzg0NTg3._V1_FMjpg_UX1000_.jpg',\n",
       " 'https://m.media-amazon.com/images/M/MV5BMTE5MzQ5ODAzOF5BMl5BanBnXkFtZTYwMTk0NTg3._V1_FMjpg_UX1000_.jpg',\n",
       " 'https://m.media-amazon.com/images/M/MV5BNTYyMDAwNjk1M15BMl5BanBnXkFtZTYwNTk0NTg3._V1_FMjpg_UX1000_.jpg',\n",
       " 'https://m.media-amazon.com/images/M/MV5BMTU2MDY0MTM5NV5BMl5BanBnXkFtZTYwODk0NTg3._V1_FMjpg_UX1000_.jpg',\n",
       " 'https://m.media-amazon.com/images/M/MV5BMTcyOTA0MzI0OF5BMl5BanBnXkFtZTYwMTA1NTg3._V1_FMjpg_UX1000_.jpg',\n",
       " 'https://m.media-amazon.com/images/M/MV5BMTI5MzYwOTY1MV5BMl5BanBnXkFtZTYwMzM0NTg3._V1_FMjpg_UX1000_.jpg',\n",
       " 'https://m.media-amazon.com/images/M/MV5BMjEzMjQ2NjM3Nl5BMl5BanBnXkFtZTYwODM0NTg3._V1_FMjpg_UX1000_.jpg',\n",
       " 'https://m.media-amazon.com/images/M/MV5BMTU0MjU4MzMyNF5BMl5BanBnXkFtZTYwNDQ0NTg3._V1_FMjpg_UX1000_.jpg',\n",
       " 'https://m.media-amazon.com/images/M/MV5BMTIzOTQ2MzM3OV5BMl5BanBnXkFtZTYwODQ0NTg3._V1_FMjpg_UX1000_.jpg',\n",
       " 'https://m.media-amazon.com/images/M/MV5BMjExODcyNTU0MF5BMl5BanBnXkFtZTYwMDU0NTg3._V1_FMjpg_UX1000_.jpg',\n",
       " 'https://m.media-amazon.com/images/M/MV5BMTIyNTA4MTIyOF5BMl5BanBnXkFtZTYwOTU0NTg3._V1_FMjpg_UX1000_.jpg',\n",
       " 'https://m.media-amazon.com/images/M/MV5BMTc0NTM0NzIyMF5BMl5BanBnXkFtZTYwOTg0NTg3._V1_FMjpg_UX1000_.jpg',\n",
       " 'https://m.media-amazon.com/images/M/MV5BMjE3MTcwMzUyNF5BMl5BanBnXkFtZTYwMzk0NTg3._V1_FMjpg_UX1000_.jpg',\n",
       " 'https://m.media-amazon.com/images/M/MV5BNjEzNWFhYjYtNmMzNi00Yjk1LTlkYjYtNWVmNjdiNDBhMDFhXkEyXkFqcGdeQXVyMDM2NDM2MQ@@._V1_FMjpg_UX1000_.jpg',\n",
       " 'https://m.media-amazon.com/images/M/MV5BNmExMjY1ZTctZTRhZS00NjljLTg3NTctODRhZDEzMTU0MTdlXkEyXkFqcGdeQXVyMDM2NDM2MQ@@._V1_FMjpg_UX1000_.jpg',\n",
       " 'https://m.media-amazon.com/images/M/MV5BMjM4MjM3MTk1OV5BMl5BanBnXkFtZTgwMzY4Nzk1MDI@._V1_FMjpg_UX1000_.jpg',\n",
       " 'https://m.media-amazon.com/images/M/MV5BODAwMDczNDY3Ml5BMl5BanBnXkFtZTgwNDY4Nzk1MDI@._V1_FMjpg_UX1000_.jpg',\n",
       " 'https://m.media-amazon.com/images/M/MV5BMjExMzE4NjI1NV5BMl5BanBnXkFtZTgwNTY4Nzk1MDI@._V1_FMjpg_UX1000_.jpg',\n",
       " 'https://m.media-amazon.com/images/M/MV5BMTc0MTUzOTUwNl5BMl5BanBnXkFtZTgwNzY4Nzk1MDI@._V1_FMjpg_UX1000_.jpg',\n",
       " 'https://m.media-amazon.com/images/M/MV5BMTEzNDI0Mzg1NzReQTJeQWpwZ15BbWU4MDg2ODc5NTAy._V1_FMjpg_UX1000_.jpg',\n",
       " 'https://m.media-amazon.com/images/M/MV5BMTgzNjIzMzY0OV5BMl5BanBnXkFtZTgwOTY4Nzk1MDI@._V1_FMjpg_UX1000_.jpg',\n",
       " 'https://m.media-amazon.com/images/M/MV5BNjA4NjE4NDI3NV5BMl5BanBnXkFtZTgwMDc4Nzk1MDI@._V1_FMjpg_UX1000_.jpg',\n",
       " 'https://m.media-amazon.com/images/M/MV5BMzg4NDk3NzM4Nl5BMl5BanBnXkFtZTgwMTc4Nzk1MDI@._V1_FMjpg_UX1000_.jpg']"
      ]
     },
     "execution_count": 51,
     "metadata": {},
     "output_type": "execute_result"
    }
   ],
   "source": [
    "download_image_url_list"
   ]
  },
  {
   "cell_type": "code",
   "execution_count": null,
   "metadata": {},
   "outputs": [],
   "source": [
    "#### Need Code cleaning and"
   ]
  }
 ],
 "metadata": {
  "kernelspec": {
   "display_name": "Python 3",
   "language": "python",
   "name": "python3"
  },
  "language_info": {
   "codemirror_mode": {
    "name": "ipython",
    "version": 3
   },
   "file_extension": ".py",
   "mimetype": "text/x-python",
   "name": "python",
   "nbconvert_exporter": "python",
   "pygments_lexer": "ipython3",
   "version": "3.10.11"
  },
  "orig_nbformat": 4
 },
 "nbformat": 4,
 "nbformat_minor": 2
}
